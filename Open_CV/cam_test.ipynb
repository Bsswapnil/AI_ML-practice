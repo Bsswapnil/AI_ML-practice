{
 "cells": [
  {
   "cell_type": "code",
   "execution_count": 2,
   "metadata": {},
   "outputs": [
    {
     "name": "stdout",
     "output_type": "stream",
     "text": [
      "Camera is accessible\n"
     ]
    }
   ],
   "source": [
    "import cv2\n",
    "\n",
    "cap = cv2.VideoCapture(0)  # Try 1 or other indices if 0 doesn't work\n",
    "if not cap.isOpened():\n",
    "    print(\"Unable to access the camera\")\n",
    "else:\n",
    "    print(\"Camera is accessible\")\n",
    "cap.release()\n"
   ]
  },
  {
   "cell_type": "code",
   "execution_count": 1,
   "metadata": {},
   "outputs": [],
   "source": [
    "import cv2\n",
    "\n",
    "cap = cv2.VideoCapture(0)\n",
    "if not cap.isOpened():\n",
    "    print(\"Error: Camera not accessible\")\n",
    "    exit()\n",
    "\n",
    "while True:\n",
    "    ret, img = cap.read()\n",
    "    if not ret or img is None:\n",
    "        print(\"Failed to capture frame\")\n",
    "        break\n",
    "\n",
    "    imgHSV = cv2.cvtColor(img, cv2.COLOR_BGR2HSV)  # Safe conversion\n",
    "    cv2.imshow(\"HSV\", imgHSV)\n",
    "\n",
    "    if cv2.waitKey(1) & 0xFF == ord('q'):\n",
    "        break\n",
    "\n",
    "cap.release()\n",
    "cv2.destroyAllWindows()\n"
   ]
  },
  {
   "cell_type": "code",
   "execution_count": 2,
   "metadata": {},
   "outputs": [],
   "source": [
    "import cv2\n",
    "import matplotlib.pyplot as plt\n",
    "\n",
    "# Open the video file or capture device\n",
    "cap = cv2.VideoCapture('video.mp4')  # Replace with 0 for webcam\n",
    "\n",
    "# Create a Matplotlib figure\n",
    "plt.ion()  # Turn on interactive mode for live updates\n",
    "fig, ax = plt.subplots()\n",
    "\n",
    "# Read and display frames\n",
    "while cap.isOpened():\n",
    "    ret, frame = cap.read()\n",
    "    if not ret:\n",
    "        print(\"End of video or failed to capture frame\")\n",
    "        break\n",
    "\n",
    "    # Convert BGR to RGB for Matplotlib\n",
    "    frame_rgb = cv2.cvtColor(frame, cv2.COLOR_BGR2RGB)\n",
    "\n",
    "    # Display the frame using Matplotlib\n",
    "    ax.imshow(frame_rgb)\n",
    "    plt.pause(0.001)  # Small pause for live update\n",
    "\n",
    "    # Clear the axis for the next frame\n",
    "    ax.clear()\n",
    "\n",
    "# Release the video capture\n",
    "cap.release()\n",
    "plt.close()\n"
   ]
  },
  {
   "cell_type": "code",
   "execution_count": null,
   "metadata": {},
   "outputs": [],
   "source": []
  }
 ],
 "metadata": {
  "kernelspec": {
   "display_name": "cv_env",
   "language": "python",
   "name": "python3"
  },
  "language_info": {
   "codemirror_mode": {
    "name": "ipython",
    "version": 3
   },
   "file_extension": ".py",
   "mimetype": "text/x-python",
   "name": "python",
   "nbconvert_exporter": "python",
   "pygments_lexer": "ipython3",
   "version": "3.12.8"
  }
 },
 "nbformat": 4,
 "nbformat_minor": 2
}
